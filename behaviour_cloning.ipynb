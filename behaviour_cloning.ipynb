{
 "cells": [
  {
   "cell_type": "code",
   "execution_count": 1,
   "metadata": {},
   "outputs": [],
   "source": [
    "#all imports\n",
    "import carla #the sim library itself\n",
    "import time # to set a delay after each photo\n",
    "import cv2 #to work with images from cameras\n",
    "import numpy as np #in this example to change image representation - re-shaping\n",
    "import math\n",
    "import sys"
   ]
  },
  {
   "cell_type": "code",
   "execution_count": 2,
   "metadata": {},
   "outputs": [],
   "source": [
    "# connect to the sim \n",
    "client = carla.Client('localhost', 2000)\n",
    "\n",
    "client.get_available_maps()\n",
    "\n",
    "# Load layered map for Town 01 with minimum layout plus buildings and parked vehicles\n",
    "client.load_world('Town04_Opt')\n",
    "world = client.get_world()\n",
    "\n",
    "# Improve the weather\n",
    "weather = carla.WeatherParameters(\n",
    "    cloudiness=0.0,\n",
    "    precipitation=0.0,\n",
    "    sun_altitude_angle=45.0)\n",
    "world.set_weather(weather)"
   ]
  },
  {
   "cell_type": "code",
   "execution_count": 10,
   "metadata": {},
   "outputs": [],
   "source": [
    "# Toggle all buildings off\n",
    "world.unload_map_layer(carla.MapLayer.All)\n",
    "world.load_map_layer(carla.MapLayer.Ground)"
   ]
  },
  {
   "cell_type": "code",
   "execution_count": 4,
   "metadata": {},
   "outputs": [],
   "source": [
    "# # get the transform of the player\n",
    "# player = world.get_spectator()\n",
    "\n",
    "# # get the waypoint near to the player\n",
    "# waypoint_A = world.get_map().get_waypoint(player.get_location())\n",
    "\n",
    "# # display the waypoint\n",
    "# world.debug.draw_string(waypoint_A.transform.location, 'O', draw_shadow=False,\n",
    "#                            color=carla.Color(r=255, g=0, b=0), life_time=1000,\n",
    "#                            persistent_lines=True)\n",
    "\n",
    "\n",
    "\n",
    "# # get all the next 200 waypoints to waypoint_A and display them\n",
    "# waypoints = [waypoint_A]\n",
    "# for _ in range(2000):\n",
    "#     waypoints.append(waypoints[-1].next(1.0)[0])  # get the next waypoint 1 meter ahead\n",
    "\n",
    "# for waypoint in waypoints:\n",
    "#     world.debug.draw_string(waypoint.transform.location, 'O', draw_shadow=False,\n",
    "#                            color=carla.Color(r=0, g=255, b=0), life_time=1000,\n",
    "#                            persistent_lines=True)\n",
    "\n",
    "# # Save the list of waypoints to a file, location and transformation\n",
    "# with open('waypoints_back.txt', 'w') as waypoint_file:\n",
    "#     for waypoint in waypoints:\n",
    "#         waypoint_file.write(str(waypoint.transform.location.x) + ' ' + str(waypoint.transform.location.y) + ' ' + str(waypoint.transform.location.z) + ' ' + str(waypoint.transform.rotation.pitch) + ' ' + str(waypoint.transform.rotation.yaw) + ' ' + str(waypoint.transform.rotation.roll) + '\\n')\n"
   ]
  },
  {
   "cell_type": "code",
   "execution_count": 5,
   "metadata": {},
   "outputs": [],
   "source": [
    "# Read the file of waypoints waypoints_1.txt, store them in a list and display them\n",
    "waypoint_path = 'waypoints.txt'\n",
    "\n",
    "waypoints = []\n",
    "with open(waypoint_path, 'r') as waypoint_file:\n",
    "    for line in waypoint_file:\n",
    "        x, y, z, pitch, yaw, roll = line.split()\n",
    "        waypoints.append(carla.Transform(carla.Location(float(x), float(y), float(z)), carla.Rotation(float(pitch), float(yaw), float(roll))))\n",
    "\n",
    "# Display the waypoints\n",
    "for waypoint in waypoints:\n",
    "    world.debug.draw_string(waypoint.location, '^', draw_shadow=False,\n",
    "                           color=carla.Color(r=0, g=255, b=0), life_time=1000,\n",
    "                           persistent_lines=True)\n",
    "    "
   ]
  },
  {
   "cell_type": "code",
   "execution_count": 6,
   "metadata": {},
   "outputs": [],
   "source": [
    "# Move the spectator to the first waypoint\n",
    "player = world.get_spectator()\n",
    "player.set_transform(waypoints[0])\n",
    "\n",
    "# Spawn a racing car in waypoint_A\n",
    "blueprint_library = world.get_blueprint_library()\n",
    "bp = blueprint_library.filter('model3')[0]\n",
    "spawn_point = waypoints[0]\n",
    "\n",
    "spawn_point.location.z += 1.0\n",
    "\n",
    "vehicle = world.spawn_actor(bp, spawn_point)\n",
    "\n"
   ]
  },
  {
   "cell_type": "code",
   "execution_count": 11,
   "metadata": {},
   "outputs": [],
   "source": [
    "#camera mount offset on the car - you can tweak these to have the car in view or not\n",
    "CAMERA_POS_Z = 1.5 \n",
    "CAMERA_POS_X = 0 \n",
    "\n",
    "camera_bp = world.get_blueprint_library().find('sensor.camera.rgb')\n",
    "camera_bp.set_attribute('image_size_x', '640') # this ratio works in CARLA 9.14 on Windows\n",
    "camera_bp.set_attribute('image_size_y', '360')\n",
    "\n",
    "camera_init_trans = carla.Transform(carla.Location(z=CAMERA_POS_Z,x=CAMERA_POS_X))\n",
    "#this creates the camera in the sim\n",
    "camera = world.spawn_actor(camera_bp,camera_init_trans,attach_to=vehicle)\n",
    "\n",
    "def camera_callback(image,data_dict):\n",
    "    data_dict['image'] = np.reshape(np.copy(image.raw_data),(image.height,image.width,4))\n",
    "\n",
    "image_w = camera_bp.get_attribute('image_size_x').as_int()\n",
    "image_h = camera_bp.get_attribute('image_size_y').as_int()\n",
    "\n",
    "camera_data = {'image': np.zeros((image_h,image_w,4))}\n",
    "# this actually opens a live stream from the camera\n",
    "camera.listen(lambda image: camera_callback(image,camera_data))"
   ]
  },
  {
   "cell_type": "code",
   "execution_count": 12,
   "metadata": {},
   "outputs": [],
   "source": [
    "vehicle.set_autopilot(True)\n",
    "\n",
    "idx = 0\n",
    "while True:\n",
    "    # Carla Tick\n",
    "    world.tick()\n",
    "    if cv2.waitKey(1) == ord('q'):\n",
    "        quit = True\n",
    "        vehicle.apply_control(carla.VehicleControl(throttle=0,steer=0,brake=1))\n",
    "        break\n",
    "    image = camera_data['image']\n",
    "    \n",
    "    # Control the vehicle using computer vision to predict the steering angle\n",
    "    \n",
    "    # Save the image as a file with the steering angle\n",
    "    steering_angle = vehicle.get_control().steer\n",
    "    cv2.imwrite('data/images/' + str(idx) + '.png',image)\n",
    "\n",
    "    # Save the steering angle in a json file for all the images names and steering angles, as a dictionary, with images and labels\n",
    "    with open('data/labels.json', 'a') as labels_file:\n",
    "        labels_file.write('{\"image\": \"' + str(idx) + '.png\", \"label\": ' + str(steering_angle) + '}\\n')\n",
    "\n",
    "    # Display the image\n",
    "    cv2.imshow('RGB Camera',image)\n",
    "\n",
    "    idx += 1\n",
    "\n",
    "#clean up\n",
    "cv2.destroyAllWindows()\n",
    "camera.stop()\n",
    "\n",
    "for sensor in world.get_actors().filter('*sensor*'):\n",
    "    sensor.destroy()\n",
    "    "
   ]
  },
  {
   "cell_type": "code",
   "execution_count": 10,
   "metadata": {},
   "outputs": [
    {
     "data": {
      "text/plain": [
       "True"
      ]
     },
     "execution_count": 10,
     "metadata": {},
     "output_type": "execute_result"
    }
   ],
   "source": [
    "# clean vehicle\n",
    "vehicle.destroy()"
   ]
  },
  {
   "cell_type": "code",
   "execution_count": null,
   "metadata": {},
   "outputs": [],
   "source": []
  }
 ],
 "metadata": {
  "kernelspec": {
   "display_name": "carla",
   "language": "python",
   "name": "python3"
  },
  "language_info": {
   "codemirror_mode": {
    "name": "ipython",
    "version": 3
   },
   "file_extension": ".py",
   "mimetype": "text/x-python",
   "name": "python",
   "nbconvert_exporter": "python",
   "pygments_lexer": "ipython3",
   "version": "3.7.16"
  }
 },
 "nbformat": 4,
 "nbformat_minor": 2
}
